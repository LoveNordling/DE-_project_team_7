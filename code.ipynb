{
 "cells": [
  {
   "cell_type": "code",
   "execution_count": 1,
   "metadata": {},
   "outputs": [
    {
     "name": "stdout",
     "output_type": "stream",
     "text": [
      "Started Session\n"
     ]
    }
   ],
   "source": [
    "from pyspark.sql import SparkSession\n",
    "import timeit \n",
    "\n",
    "# New API\n",
    "spark_session = SparkSession\\\n",
    "        .builder\\\n",
    "        .master(\"spark://192.168.2.131:7077\") \\\n",
    "        .appName(\"Team7_code.ipynb\")\\\n",
    "        .config(\"spark.dynamicAllocation.enabled\", True)\\\n",
    "        .config(\"spark.shuffle.service.enabled\", True)\\\n",
    "        .config(\"spark.dynamicAllocation.executorIdleTimeout\",\"30s\")\\\n",
    "        .config(\"spark.cores.max\",5)\\\n",
    "        .config(\"spark.worker.instances\",5)\\\n",
    "        .config(\"spark.executor.cores\",1)\\\n",
    "        .config(\"spark.driver.port\",9998)\\\n",
    "        .config(\"spark.blockManager.port\",10005)\\\n",
    "        .getOrCreate()\n",
    "#\\#)\\\n",
    "# Old API (RDD)\n",
    "spark_context = spark_session.sparkContext\n",
    "\n",
    "spark_context.setLogLevel(\"INFO\")\n",
    "print(\"Started Session\")"
   ]
  },
  {
   "cell_type": "code",
   "execution_count": 2,
   "metadata": {},
   "outputs": [
    {
     "name": "stdout",
     "output_type": "stream",
     "text": [
      "root\n",
      " |-- archived: boolean (nullable = true)\n",
      " |-- author: string (nullable = true)\n",
      " |-- author_flair_css_class: string (nullable = true)\n",
      " |-- author_flair_text: string (nullable = true)\n",
      " |-- body: string (nullable = true)\n",
      " |-- controversiality: long (nullable = true)\n",
      " |-- created_utc: string (nullable = true)\n",
      " |-- distinguished: string (nullable = true)\n",
      " |-- downs: long (nullable = true)\n",
      " |-- edited: string (nullable = true)\n",
      " |-- gilded: long (nullable = true)\n",
      " |-- id: string (nullable = true)\n",
      " |-- link_id: string (nullable = true)\n",
      " |-- name: string (nullable = true)\n",
      " |-- parent_id: string (nullable = true)\n",
      " |-- retrieved_on: long (nullable = true)\n",
      " |-- score: long (nullable = true)\n",
      " |-- score_hidden: boolean (nullable = true)\n",
      " |-- subreddit: string (nullable = true)\n",
      " |-- subreddit_id: string (nullable = true)\n",
      " |-- ups: long (nullable = true)\n",
      "\n",
      "execution time 77.44055639300495s\n"
     ]
    }
   ],
   "source": [
    "def create_spark_dataframe(filename):\n",
    "    df = spark_session.read.json('hdfs://192.168.2.131:9000/user/ubuntu/{}'.format(filename))\n",
    "    return df\n",
    "\n",
    "start_time_0 = timeit.default_timer() \n",
    "\n",
    "#df = create_spark_dataframe('RC_2005-12.json')\n",
    "df = create_spark_dataframe('RC_2011-08.json')\n",
    "#df = create_spark_dataframe('RC_2009-05.json')\n",
    "df.printSchema()\n",
    "print(\"execution time {}s\".format(timeit.default_timer()-start_time_0))"
   ]
  },
  {
   "cell_type": "code",
   "execution_count": 67,
   "metadata": {},
   "outputs": [
    {
     "name": "stdout",
     "output_type": "stream",
     "text": [
      "+------------------+-------+\n",
      "|            author|  count|\n",
      "+------------------+-------+\n",
      "|         [deleted]|2442948|\n",
      "|         mileylols|   4594|\n",
      "|            Lots42|   4047|\n",
      "|       GenJonesMom|   3294|\n",
      "|     dispatcher_83|   3006|\n",
      "|           JBgreen|   2817|\n",
      "|            Spongi|   2731|\n",
      "|Release_the_KRAKEN|   2680|\n",
      "|          Osmodius|   2579|\n",
      "|      redhatnation|   2481|\n",
      "|      mavriksfan11|   2465|\n",
      "|   original-finder|   2421|\n",
      "|    GhostedAccount|   2406|\n",
      "|         Warlizard|   2296|\n",
      "|       StickDoctor|   2273|\n",
      "|           Moridyn|   2053|\n",
      "|          Ali-Sama|   2041|\n",
      "|         edubation|   2009|\n",
      "|          G_Morgan|   1974|\n",
      "|       silverhydra|   1952|\n",
      "+------------------+-------+\n",
      "only showing top 20 rows\n",
      "\n",
      "execution time 70.14901283899962s\n"
     ]
    }
   ],
   "source": [
    "from pyspark.sql.functions import desc, col\n",
    "\n",
    "#num_comments = df.count()\n",
    "#print('number of comments: {}'.format(num_comments))\n",
    "\n",
    "start_time_0 = timeit.default_timer() \n",
    "\n",
    "author_comment_counts = df.groupBy('author').count()\n",
    "author_comment_counts.cache()\n",
    "author_comment_counts.sort(desc(\"count\")).show()\n",
    "print(\"execution time {}s\".format(timeit.default_timer()-start_time_0))\n"
   ]
  },
  {
   "cell_type": "code",
   "execution_count": 13,
   "metadata": {},
   "outputs": [
    {
     "name": "stdout",
     "output_type": "stream",
     "text": [
      "7964577335\n",
      "execution time 74.15956350398483s\n",
      "execution time 5.6745331730053294s\n"
     ]
    }
   ],
   "source": [
    "\n",
    "start_time_0 = timeit.default_timer() \n",
    "#author_comment_counts.select(\"count\").rdd.map(tuple).map(lambda x: x[0]).map(lambda x: x**2).collect()\n",
    "df_tmp = df.select(\"score\").rdd.map(tuple).map(lambda x: x[0]).cache()\n",
    "print(df_tmp.map(lambda x: x**2).reduce(lambda x,y: x+y))\n",
    "\n",
    "print(\"execution time {}s\".format(timeit.default_timer()-start_time_0))\n",
    "\n",
    "start_time_0 = timeit.default_timer() \n",
    "#author_comment_counts.select(\"count\").rdd.map(tuple).map(lambda x: x[0]).map(lambda x: x**2).collect()\n",
    "df_tmp.map(lambda x: x**2).reduce(lambda x,y: x+y)\n",
    "\n",
    "print(\"execution time {}s\".format(timeit.default_timer()-start_time_0))"
   ]
  },
  {
   "cell_type": "code",
   "execution_count": 32,
   "metadata": {},
   "outputs": [
    {
     "name": "stdout",
     "output_type": "stream",
     "text": [
      "+-------------+----------+\n",
      "|       author|sum(score)|\n",
      "+-------------+----------+\n",
      "|   paulgraham|        98|\n",
      "|     mattknox|        77|\n",
      "|    [deleted]|        58|\n",
      "|      bugbear|        43|\n",
      "| michaelneale|        39|\n",
      "|     dstowell|        38|\n",
      "|         spez|        36|\n",
      "|      AaronSw|        30|\n",
      "|     JimThome|        29|\n",
      "|        sempf|        29|\n",
      "|    bolinfest|        28|\n",
      "|       davidw|        27|\n",
      "|          Zak|        26|\n",
      "|     symbiont|        25|\n",
      "|     binladen|        24|\n",
      "|     enjahova|        23|\n",
      "|         cg84|        23|\n",
      "|brendankohler|        21|\n",
      "|       dylanm|        20|\n",
      "|     beastboy|        19|\n",
      "+-------------+----------+\n",
      "only showing top 20 rows\n",
      "\n",
      "execution time 2.5746123989956686s\n"
     ]
    }
   ],
   "source": [
    "start_time_0 = timeit.default_timer() \n",
    "author_score = df.groupBy('author').sum('score')\n",
    "author_score.sort(desc(\"sum(score)\")).show()\n",
    "print(\"execution time {}s\".format(timeit.default_timer()-start_time_0))"
   ]
  },
  {
   "cell_type": "code",
   "execution_count": 40,
   "metadata": {},
   "outputs": [
    {
     "name": "stdout",
     "output_type": "stream",
     "text": [
      "root\n",
      " |-- author: string (nullable = true)\n",
      " |-- count: long (nullable = false)\n",
      " |-- author: string (nullable = true)\n",
      " |-- score: long (nullable = true)\n",
      "\n",
      "+--------------+-----+--------------+-----+-----------------+\n",
      "|        author|count|        author|score|    Average Score|\n",
      "+--------------+-----+--------------+-----+-----------------+\n",
      "|          Grue|    1|          Grue|   16|             16.0|\n",
      "|TenebraeVision|    1|TenebraeVision|   16|             16.0|\n",
      "|        fergie|    1|        fergie|   12|             12.0|\n",
      "|        bstard|    1|        bstard|   11|             11.0|\n",
      "|         sempf|    3|         sempf|   29|9.666666666666666|\n",
      "|     bolinfest|    4|     bolinfest|   28|              7.0|\n",
      "|    HiggsBoson|    1|    HiggsBoson|    7|              7.0|\n",
      "|      kanagawa|    1|      kanagawa|    7|              7.0|\n",
      "|    paulgraham|   15|    paulgraham|   98|6.533333333333333|\n",
      "|         arkas|    2|         arkas|   13|              6.5|\n",
      "|      dstowell|    6|      dstowell|   38|6.333333333333333|\n",
      "|        kelyse|    1|        kelyse|    6|              6.0|\n",
      "|       spolsky|    2|       spolsky|   12|              6.0|\n",
      "|       gernika|    1|       gernika|    6|              6.0|\n",
      "|     FutureAEI|    1|     FutureAEI|    6|              6.0|\n",
      "|          chao|    2|          chao|   12|              6.0|\n",
      "|       AaronSw|    5|       AaronSw|   30|              6.0|\n",
      "|      bwringer|    1|      bwringer|    6|              6.0|\n",
      "|        willfe|    2|        willfe|   12|              6.0|\n",
      "|          bosk|    2|          bosk|   11|              5.5|\n",
      "+--------------+-----+--------------+-----+-----------------+\n",
      "only showing top 20 rows\n",
      "\n",
      "execution time 14.233018451996031s\n"
     ]
    }
   ],
   "source": [
    "start_time_0 = timeit.default_timer() \n",
    "\n",
    "author_df = author_comment_counts.join(author_score, author_comment_counts.author == author_score.author).withColumnRenamed(\"sum(score)\", \"score\")\n",
    "author_df.withColumn('Average Score', author_df['score']/author_df['count']).sort(desc('Average Score')).show()\n",
    "print(\"execution time {}s\".format(timeit.default_timer()-start_time_0))"
   ]
  },
  {
   "cell_type": "code",
   "execution_count": 3,
   "metadata": {},
   "outputs": [
    {
     "name": "stdout",
     "output_type": "stream",
     "text": [
      "[('the', 13768265), ('to', 9377579), ('a', 8884361), ('', 8400419), ('i', 8302200), ('and', 7374302), ('of', 6268364), ('you', 5644058), ('that', 5097987), ('it', 5023729)]\n",
      "execution time 361.68467402498936s\n"
     ]
    }
   ],
   "source": [
    "import re\n",
    "def pre_process_text(text):\n",
    "    text = text.lower()\n",
    "    text = text.replace('\\r', '')\n",
    "    text = text.replace('\\n', '')\n",
    "    text = text.strip()\n",
    "    text=text.split(' ')\n",
    "    text = map(lambda x: re.sub(r'[^a-zA-Z ]+', '', x), text)\n",
    "    return text\n",
    "\n",
    "start_time_0 = timeit.default_timer() \n",
    "\n",
    "df_body = df.select(\"body\").rdd.map(tuple).cache()\n",
    "\n",
    "print(df_body.map(lambda x: x[0]).flatMap(pre_process_text).map(lambda x: (x, 1)).reduceByKey(lambda x, y: x+y).sortBy(lambda x: x[1], ascending=False).take(10))\n",
    "\n",
    "print(\"execution time {}s\".format(timeit.default_timer()-start_time_0))"
   ]
  },
  {
   "cell_type": "code",
   "execution_count": 41,
   "metadata": {},
   "outputs": [
    {
     "name": "stdout",
     "output_type": "stream",
     "text": [
      "['MensRights', 'anime', 'travel', 'Amateur', 'Entrepreneurship', 'coding_tutorials', 'Kneejerk', 'left4dead', 'occult', 'scifi', 'girlskissing', 'conspiracyhub', 'craigslist', 'television', 'GenderTheory', 'pharmacology', 'hockey', 'australia', 'Sexy', 'directors', 'chemistry', 'religiouscirc', 'lies', 'portugal', 'CampingandHiking', 'mjstrains', 'Gourmet', 'Antitheism', 'Winnipeg', 'hipsters', 'hackintosh', 'ledelse', 'battery', 'PS3', 'evosoc', 'redditchan', 'Boxing', 'YooouuuTuuube', 'MarijuanaNICEASSNUGS', 'stocks', 'IndustrialDesign', 'Marijuana', 'space', 'ZenHabits', 'iphone', 'SOS', 'spotifylists', 'Documentaries', 'astro', 'DelawarePolitics', 'designthought', 'financial', 'microsoft', 'tinfoilhat', 'joos', 'crime', 'environment2', 'RedditRomania', 'HoangVantu', 'videos', 'ideasfortheadmins', 'AskReddit', 'productivity', 'Buddha', 'gotya', '2012', 'latinascaliente', 'Igor', 'debian', 'stonerrock', 'testreddittryitfornj', 'deepthroat', 'advertising', 'futurama', 'Webrecsol', 'Needafriend', 'trippy', 'Bedrijfsevenementen', 'digg', 'PGH', '4chan', 'voluptuous', 'saidbakr', 'Discussion', 'Magic', 'marx', 'poland', 'Drugs', 'hypatia', 'software2', 'MusicFail', 'browsers', 'm3n', 'voluntarism', 'BNP_UK', 'mindcontrol', 'AmericanEconomy', 'bestfoodintown', 'vlogging', 'Dallas', 'kahlers', 'web_design', 'lolcats', 'spotify', 'finance', 'sl', 'onlycode', 'Turkey', 'trolls', 'science2', 'smokefree2009', 'vfx', 'espanol', 'feminisms', 'autism', 'chicago', 'futureofreddit', 'Slayer', 'mix', 'transit', 'Tat12287', 'heating', 'Flex', 'LGBTReddit', 'SocialRomania', 'Freshhome', 'redditmemes', 'urbantransport', 'redaction', 'Apocalypse', 'JailbaitPhotos', 'deutschland', 'NoveltyAccounts', 'photographers', 'hentai', 'nyc', 'DIY', 'WATSON', 'games_de', 'AnnoyingComments', 'Greentealovers', 'AmerikanPolizei', 'CrazyCousinz', 'experiment1', 'evopsych', 'StarWars', 'alison2376557', 'WorldCurrency', 'Aylol68', 'NonAustrianEconomics', 'onlyup', 'cognos', 'Screenwriting', 'treadmills', 'legal', 'handq', 'wood_pellets', 'tattoos', 'logo', 'd_language', 'haskell', 'emacs', 'Gunners', 'medicine', 'DOG', 'personals', 'ChineseLanguage', 'TrueHorrorStories', 'access', 'Arabiya', 'Entomology', 'TheSample', 'Art', 'Metal', 'Autos', 'alaska', 'dup', 'spor', 'guam', 'philosophy', 'todayilearned', 'Anthropology', 'pl', 'ipod', 'refreshing', 'Suomi', 'toronto', 'offbeat', 'SubmarinoViagens', 'longform', 'pssnaked', 'SEO', 'DFamily', 'haskell_proposals', 'gunjan', 'cocoa', 'ucf', 'amazon', 'ymc', 'antiatheism', 'electronic_cigarette', 'Piracy', 'Gays', 'l33t', '3rb', 'torrents', 'computers', 'lol', 'koreangamenewstest1', 'RealRap', 'FinerMinds', 'apple', 'economy', 'tiantiankankan', 'osx', 'investment', 'Republican', 'Rania', 'PixelArt', 'test123abc', 'japan', 'Pentecostal', 'forhire', 'news', 'compsci', 'religion', 'WorldWideNews', 'lost', 'xboxlive', 'erthC', 'newreddits', 'auto', 'Freethought', 'education', 'BSG', 'webdesign', 'LearningAway', 'khalid32', 'security', 'Jazz', 'pcgaming', 'cyberlaws', 'Basketball', 'Divorce', 'TestMySite', 'ohm', 'ada', 'weallgonnadie', 'technology', 'gossip', 'Dhimmitude', 'progressivetrance', 'LSD', 'FixedGearBicycle', 'Africa', 'bestof', 'netsec', 'xkcd', 'redditectives', 'hookups', 'Animal', 'gonewild', 'india', 'collaborative_hub', 'israelis', 'wow', 'FinancialPlanning', 'Windows_7', 'diabetes', 'hotelsandtravel', 'policestateUSA', 'obama', 'love', 'gif', 'ideeli', 'yospos', 'gundem', 'Cleveland', 'Psychonaut', 'porn', 'freelance', 'wedding', 'sameskybookmark', 'Tomas', 'meta', 'STS125', 'Slovakia', 'ambient', 'TellReddit', 'firefox', 'EARNYUVA', 'webdesignbulgaria', 'WorldTravel', 'reportthetrolls', 'animation', 'HANDPALMREADING', 'crypto', 'conspiracy', 'podcasts', 'Capitalism', 'economics2', 'lists', 'Dead', 'Nirvana', 'tambreetruscott', 'swingerwebsite', 'Survival', 'Astronomy', 'boston', 'Simpsons_Quotes', 'alexjones', 'Pennsylvania', 'socialism', 'nsfwvideos', 'redditclassics', 'CARTOON', 'Dietandhealth', 'HighStrangeness', 'jumpgate', 'Celebs', 'Portland', 'GameDeals', 'texas', 'CAKEWIN', 'mobile', 'morrissey', 'ko', 'onlinegames', 'dailywtf', 'RocketStore', 'Military', 'sportsvideo', 'sanfrancisco', 'SEC', 'Transhuman', 'Poetry', 'counterpunch', 'HillcrestStJohn', 'ultimate', 'programming', 'nin', 'ughh', 'Rija', 'geopolitics', 'wccinet', 'vrm', 'AnyQuestions', 'genewilder', 'shemale', 'BlackOps', 'Parties', 'Atheism2', 'Boise', 'penis', 'Thirdsoul', 'Anarchism', 'AmericanMilitary', 'coins', 'iPhoneUnlock', 'food', 'perl', 'psychology', 'semanticweb', 'Mixtapes', 'bestofcraigslist', 'shortstories', 'p2p', 'beach', 'cogsci', 'energy', 'fascinating', 'Judaism', 'Ukrainian', 'electricvehicles', 'seduction', 'vid', 'CuteWriting', 'RedditMD', 'moviecritic', 'HealthcareMarketing', 'bikinis', 'Nipples', 'future', 'Converse', 'AnnikRubens', 'centralpa', 'thamiz', 'StLouis', 'plt', 'WebNews', 'musictheory', 'MAGICTHEGATHERING', 'PirateParty', 'knitting', 'rape', 'ComputerSecurity', 'seinfeld', 'Ambientalmente', 'Internet', 'feature_wishlist', 'indonesia', 'manchildren', 'China', 'vegan', 'farming', 'gifs', 'ZenShark', 'freemusic', 'housing', 'Health', 'baduk', 'AnswerReddit', 'bestsitesever', 'cycling', 'pics', 'band', 'usability', 'activism', 'codeprojects', 'ReverseEngineering', 'culturalstudies', 'braga', 'Monterrey', 'GENIUS', 'beards', 'tf2comics', 'ShahriarHKhan', 'ruby', 'OnlineShoppingGuide', 'prowrestling', 'Indiemusician', 'ASC', 'euro', 'types', 'beater', 'RestaurantCity', 'ads', 'colorreddit', 'software', 'businessnews', 'Healthychoices', 'parent', 'NSFW_nospam', 'Boobies', 'AnimalRights', 'europe', 'sexyandshocking', 'SAMusesDIGG', 'mygoodnews', 'GirlswithGlasses', 'Austin', 'erthBeef', 'ExcelTelemarketing', 'Mechatroniker', 'classic', 'kultur_sanat', 'Unity3D', 'grammar', 'Peiman', 'ohwhataworld', 'doyourhomework', 'Outdoors', 'startonic', 'Propagandhi', 'youtube', 'newzealand', 'ElSalvador', 'hacking', '5edwin', 'hip_hop', 'photocritique', 'photography', 'ChileRemix', 'FTS', 'celebrities', 'refrigeratorshots', 'Inflatable_Moonwalks', 'writing_for_the_web', 'acting', 'marketing', 'Meditation', 'Wordpress', 'AmericanGovernment', 'soapbox', 'summerreadinglist', 'awk', 'spam', 'AssCreddit', 'whoareyou', 'redditlogotoday', 'Fitness', 'opensource', 'ANTISHARIA', 'Liberal', 'Hezel', 'Shortfilms', 'BuyWOWGOLD', 'reddit.com', 'howto', 'EveCorp', 'cocoadev', 'nature', 'sailing', 'Fantasy', 'memphis', 'mississippi', 'sjovt', 'horror', 'GreenProducts', 'rva', 'celebrity', 'hiphop', 'JADIE11', 'Elior', 'sneedwhopplery', 'christianvideos', 'submit', 'investing', 'mortens', 'bestdvdripper', 'xbox360', 'vids', 'worldnews', 'scientific', 'prolog', 'wave', 'PornForLifez', 'outrage', 'tr', 'contra', 'teradata', 'moderate', 'hackers', 'motorcycles', 'javascript', 'de', 'Celtic', 'PhotoBlog', 'spiritual', 'Pacesetting', 'business2', 'wireless', 'audioengineering', 'BestGamesEver', 'MMJ', 'milf', 'literature', 'Skatebording', 'DotSiamMove', 'Shoplifting', 'OCR', 'amateurradio', 'formula1', 'AHMED3', 'SecondChance', 'Technical_Details', 'conspiracies', 'ActionScript3', 'hardbodies', 'modhelp', 'conservatism', 'craft', 'merry', 'C_Programming', 'djmixes', 'Delaware', 'religiousdebate', 'cookmesomething', 'Fakhra', 'BetweenMyEars', 'zombies', 'Pets', 'es', 'ciencia', 'ecoreddit', 'hugeboobs', 'farts', 'jello', 'Absurd', 'casualgames', 'values', 'politics', 'HappyBirthday', 'NonprofitMarketing', 'archlinux', 'canada', 'ocaml', 'musiccoop', 'mydreamwebapp', 'samokrutka', 'insectsnstuff', 'climate', 'readabook', 'Coalmarch', 'nsfw', 'starcraft', 'againstcircumcision', 'fnord', 'GreaseMonkey', 'LaTeX', 'PSP', 'darl', 'nsfwnonporn', 'eggs', 'Libertarian', 'ass', 'RacistReddit', 'Plugyoursite', 'triangle', 'cars', 'scala', 'greentea', 'Denmark', 'geography', 'antibaconism', 'virtualization', 'motorsports', 'Homebrewing', 'culture', 'leaked', 'SonyPS3', 'history', 'hrw', 'Rockband', 'yoga', 'agile', 'lgbt', 'science', 'getfreakinfit', 'AmericanPolitics', 'Webbook', 'NaturalWomen', 'Blowjobs', 'wakarusa', 'Frugal', 'redditbookclub', 'it', 'france', 'nomorecrapmusic', 'overpopulation', 'iksydk', 'kendo', 'self', 'Kucinich', 'Craftyville', 'Pantsless', 'martialarts', 'AlphaInputs', 'legalizeit', 'Scotch', 'Twitter', 'bdsm', 'Green', 'atheist_community', 'southtyrol', 'wine', 'cannabiscultivation', 'nonprofit', 'bayarea', 'athiesm', 'omegle', 'Gigi', 'typography', 'incognito', 'bloggerindonesia', 'linkai', 'Bad_Cop_No_Donut', 'WebGames', 'sphinx', 'sv', 'books', 'NotASubreddit', 'media', 'pollreddit', 'kittens', 'pyxis', 'ronpaul', 'sexzone', 'GenX', 'DeepThoughts', 'truthordare', 'arizona', '2600', 'motorbikes', 'Bergen', 'tennis2009', 'worldpolitics', 'Synchronicity', 'comic', 'nl', 'PRICXwatch', 'rbeder', 'Brian01', 'LinuxTutorials', 'wwww', 'statuegropers', 'JavaFX', 'Israel', 'collapse', 'arabic', 'our', 'things', 'izvornisignal', 'Iceland', 'portraitphotos', 'merealty', 'IAmA', 'bugs', 'startups', 'skateboarding', 'SerialMurder', 'Games', 'goianiarockcity', 'Gothic', 'women', 'mormon', 'longvideos', 'kriminals', 'linux4noobs', 'gambling', 'GameDevelopment', 'politicstoo', 'Atlanta', 'djaddio', 'sociology', 'THESHOCKINGTRUTH', 'osc', 'gtd', 'apcs3', 'Bacon', 'macprogramming', 'iPhoneDev', 'Tugimp', 'Pirate', 'CloudTenPictures', 'argentina', 'answers', 'percocet', 'tvpopup', 'anticapitalism', 'POL_IT', 'comics', 'MelayuBolehOnline', 'hu', 'ProgressPittsburgh', 'wacrover', 'slashdot', 'peace', 'nederlands', 'yourweek', 'audio', 'KMY1980', 'golf', '100kSalaryJobs', 'MMA', 'TurkeyBacon', 'ProgrammingLanguages', 'tvcritic', 'movienights', 'ca', 'Brooklyn', 'ask', 'tonightsdinner', 'netaudio', 'redditanonoymous', 'RATS', 'wii', 'police', 'Alec', 'didyouknow', 'soccer', 'fffffffuuuuuuuuuuuu', 'vim', 'redheads', 'Web_Development', 'FortBadgerton', 'pdf', 'whine', 'films', 'language', 'Coffee', 'highdeas', 'upvote', 'ebooks', 'tea', 'BeCause', 'writing', 'biology', 'Feminism', 'snobs', 'redditmusicclub', 'BattlestarGalactica', 'tomorrowiwill', 'captionit', 'copyleft', 'uglyartgallery', 'mobile_porn', 'WhiteMenGoneWild', 'funny2', 'Christianity', 'aww', 'depression', 'Seattle', 'comicbooks', 'Agriculture', 'controllablewebcams', 'Equality', 'Cryptogon', 'chess', 'ru', 'recipes', 'SubGenius', 'Blogging', 'Fishing', 'Montana', 'holidayinspirations', 'Broadway', 'fapfapfap', 'veg', 'Bachelorparty', 'ihatelylife', 'naturism', 'baltimore', 'CAPSLOCK', 'Virginia', 'Ubuntu', 'bestactorofiran', 'ihatemylife', 'DosugPoRuskij', 'dogs', 'whedon', 'paintlikecontest', 'baseball', 'mec', 'tradebot', 'Music', 'Design', 'sml', 'dwarffortress', 'scholarscamp', 'tourdefrance', 'Pellericewine', 'video', 'watchdog', 'Francophone', 'rgrd', 'egalitarian', 'JDJournal', 'Essays', 'Sneakerz', 'varthalokam', 'RedditizeME', 'Entrepreneur', 'bestof_conspiracy', 'labor', 'worldnews2', 'work', 'goodfood', 'Bujinkan', 'Intelligence', 'movies', '911truth', 'Paranormal', 'robotics', 'QnARefugees', 'LearnJapanese', 'appeals', 'OrganicGardening', 'bobblehead', 'Desiboy', 'QualityAssurance', 'Polska', 'NewAgeReligion', 'pandorastations', 'Minimoto', 'pic', 'Guitar', 'jobpostings', 'runetnews', 'Cplusplus', 'gardening', 'tf2', 'rails', 'tips_tricks', 'artificial', 'singapore', 'jambands', 'Eve', 'windowshots', 'Accountabilityreddit', 'fail', 'sandiego', 'Violinit', 'meetup', 'shortanimation', 'kyonounnsei', 'newspapers', 'picture', 'energy2', 'Technologyzone', 'Movie', 'IPhoneApps', 'newworldorder', 'Quebec', 'climbing', 'Demolition', 'HelpoutReddit', 'electronics', 'quotes', 'boulder', 'sandbox', 'houston', 'Mopeds', 'faceoff', 'BuyFromTheFarm', 'dezvoltarepersonala', 'ChadRothschild', 'wordnerd', 'confessions', 'Alabama', 'urbanplanning', 'quake3', 'GroepsLog', 'Social__Media', 'Clojure', 'PHP', 'geology', 'lamanzanilla', 'Grecian', 'WomenOfColor', 'deceasedcrab', 'lostsucks', 'TrueReddit', 'guns', 'TheistVsAtheist', 'WeAreTheMusicMakers', 'redditbay', 'NCSU', 'ukshopping', 'philadelphia', 'SignatureGrand', 'exjw', 'streetviews', 'playground', 'Switzerland', 'web_infrastructure', 'Alwyn100', 'unitedkingdom', 'AtheistArrogance', 'notTF2', 'hookah', 'WTF', 'happy', 'Islamofascism', 'Weird_Science', 'architecture', 'progressive', 'drums', 'technology2', 'statistics', 'Quakers', 'Mortgages', 'TeamFortress2', 'Masculinists', 'LegalTeens', 'Animals', 'Turkiye', 'racism', 'scientology', 'WhoWouldyouRather', 'Pandemic', 'sinema', 'notleavingreddit', 'firefoxextensions', 'jobs', 'nanotech', 'ideas', 'Equity', 'english_articles', 'modcom', 'grilledcheese', 'PoliticalHumor', 'ForgottenBookmarks', 'Ecstacy', 'crezylist', 'Realty', 'photojournalism', 'tedtalks', 'WorldWidePolitics', 'worstof', 'furry', 'Kiva', 'trollcave', 'no', 'cheats', 'fioricetonline', 'SHOCKINGTRUTH', 'sports', 'wikipedia', 'drunk', 'solaris', 'mycology', 'linux', 'hardware', 'zen', 'antiterrorism', 'socialite', 'Stockton', 'VoteBestSubreddits', 'PCFreak', 'circlejerk', 'newyork', 'rpg', 'Iowa', 'laviathin', 'cevre', 'aviation', 'redditorpics', 'programming_ru', 'cute', 'Fun', 'SavageGarden', 'spaceflight', 'britishcolumbia', 'Heavymetal', 'SuggestMusic', 'SuicideWatch', 'health2', 'LibDem', 'NewLawsofGlobalLife', 'minnesota', 'taoism', 'thinkreason', 'atheism', 'CreativeManagement', 'DarwinAwards', 'skeptic', 'Physics', 'compling', 'StandUpComedy', 'ferrets', 'euroweb', 'musicvideo', '3cs', 'budgetboxer', 'toast', 'papicatchers', 'TuyetVoi', 'Python', 'linguistics', 'networking', 'catonmat', 'pluggit', 'Badasstime', 'Buddhism', 'antiliberalism', 'GhostHunting', 'LosAngeles', 'easymoneyforteens', 'wdyt', 'longtext', 'scheme', 'interestingasfuck', 'autotune', 'russia', 'mixes', 'rugbyunion', 'hurts_my_eyes', 'democrats', 'AreSlashRslashArr', 'AskProggit', 'HuntsvilleAlabama', 'vmware', 'bicycling', 'brass', 'RecommendMovies', 'RedditOriginals', 'Cooking', 'wallpapers', 'idea', 'musicians', 'grist', 'southafrica', 'eDrawtica', 'dior_lei', 'algeria', 'ireland', 'italy', 'startrek', 'audible', 'Webmasters', 'SyntheticBiology', 'VideoGameDevelopment', 'awesome', 'CommonLaw', 'ResistTyranny', 'Yalin', 'disney', 'webdev', 'entertainment', 'Images', 'Cerina', 'engineering', 'Orgasms', 'PeopleSearch', 'ejk', 'Catholicism', 'artrockmusicvideos', 'ADHD', 'islam', 'Android', 'Recipies', 'dubstep', 'aikido', 'Louisiana', 'war', 'Alexbob', 'shade', 'neuro', 'running', 'Ontology', 'dotnet', 'OMGWTF', 'garyred', 'gaming', 'Conservative', 'qntm', 'lego', 'spoilers', 'MovieMobster', 'BskinnyTN', 'penisland', 'atheist', 'geek', 'Vegetarianism', '7mooode', 'joel', '211323', 'Infos', 'Prison', 'cats', 'HPC', 'zh', 'java', 'lolwut', 'lovereddit', 'teknoloji', 'antiwar', 'git', 'missouri', 'tissa', 'phish', 'kotr', 'gtky', 'erthNN', 'ITnews', 'Games365', 'geeklove', 'smallbusiness', 'cannabis', 'government', 'independent', 'poker', 'longboarding', 'Environnement', 'stripclubs', 'norge', 'physicalfitness', 'Graffiti', 'AskUsers', 'raga', 'censorship', 'wolframalpha', 'Folladas', 'Liberty', 'ColegioWilliamJames', 'theology', 'webbuzzz', 'fr', 'bodybuilding', 'Jokes', 'erth', 'newjersey', 'terreautentik', 'gothicandhorror', 'business', 'Pictures', 'trivia', 'audiophile', 'disability', 'pakistan', 'Over30', 'digitaladvertising', 'england', 'gadgets', 'Tekstil', 'FML', 'Oberon', 'bulgaria', 'privacy', 'UFOs', 'electronicmusic', 'istanbul', 'geyik', 'Database', 'redGPz', 'TextSalad', 'israelimusic', 'IgorMaradona', 'ja', 'lisp', 'Libraries', 'justlikejava', 'wanderlust', 'blogs', 'Economics', 'ArtCrit', 'redditeame', 'socialmedia', 'German', 'mac', 'piercing', 'Parenting', 'lithuania', 'Beekeeping', 'spa', 'czech', 'NativeAmerican', 'mythbusters', 'humor', 'alt_conspiracy', 'Futball', 'MissingPersons', 'MissCinderella999', 'SFstories', 'GreatIndianfilms', 'amiga', 'sex', 'django', 'ukpolitics', 'impoliteconversation', 'evolution', 'Austria', 'timetravel', 'Churchblog', 'TeachandBuild', 'info', 'reggae', 'Zombie', 'websecurity', 'jobbit', 'arduino', 'cocktails', 'environment', 'twiddit', 'CRM', 'id', 'OpenIdeas', 'humanrights', 'redsox', 'gamedev', 'usa', 'snowboarding', 'drblog', 'downvote', 'Cinemaquebecois', 'personalfinance', 'California', 'cpp', 'spirituality', 'Christians', 'redditdev', 'smalltalk', 'blasphemy', 'blackhatseo', 'stockdiscussion', 'punk', 'WeAreTheFilmMakers', 'sysadmin', 'Forex', 'webcomics', 'beer', 'shortstory', 'AnxietyPanic', 'mexico', 'alcohol', 'lectures', 'EnAmerique', 'test', 'disapproval', 'Scotland', 'blender', 'mechatronics', 'funny', 'IowaArtsAndCrafts', 'productdesign', 'BSD', 'educationreform', 'latin', 'neutronstarstructure', 'madeinusa', 'hotmanflesh', 'Bondage', 'datastage_itp', 'glutenfree', 'reddb', 'gnu', 'Nobuddy', 'reddithax', 'Poke', 'worlddomination', 'D_programming', 'PalinProblem', 'photoshop', 'listentothis', 'OralHistory', 'openscience', 'CheckOutTheTrolls', 'Actress', '311', 'doctorwho', 'FreeSpeech', 'Atheist_symbol_poll', 'RareList', 'planex', 'Gusari', 'Afghan', 'poetscorner', 'MapleLinks', 'selfhelp', 'redditfilmclub', 'circumcisionblogs', 'yahoo', 'facebook', 'dictionary', 'hsv', 'c64', 'Computerhi5news', 'EroticArt', 'Infowars', 'Equus', 'epic', 'flash', 'union', '2100science', 'Lovecraft', 'operabrowser', 'law', 'postrock', 'Survivalist', 'tech', 'Swedbank', 'DandD', 'friendship', 'Weight', 'industrialmusic', 'PlayableWebGames', 'google', 'math', 'juggling', 'kde', 'AVANT_GARDE', 'trance', 'BDSM_NoSpam', 'Juventus', 'siam2day', 'Waif', 'wenyude', 'Gamer', 'stories', 'latinoamerica', 'bitch', 'cnbeta', 'Archaeology', 'Baking', 'softwaredevelopment', 'widget', 'AvantGardeMusic', 'iglesiaelim', 'Colorado', 'windows', 'fashion', 'cimigo', 'postquebec', 'Romeo', 'Dudes', 'Yamen', 'Forth', 'sleuthery', 'FetishErotica', 'mertblog', 'weed', 'SinoBeta', 'erlang', 'testuk']\n"
     ]
    }
   ],
   "source": [
    "subreddits = df.select('subreddit').dropDuplicates().rdd.map(tuple).map(lambda x: x[0]).collect()\n",
    "\n",
    "df.rdd.map(tuple)\n",
    "subreddit = subreddits[0]\n",
    "\n",
    "for \n"
   ]
  },
  {
   "cell_type": "code",
   "execution_count": 47,
   "metadata": {},
   "outputs": [
    {
     "name": "stderr",
     "output_type": "stream",
     "text": [
      "ERROR:py4j.java_gateway:An error occurred while trying to connect to the Java server (127.0.0.1:38677)\n",
      "Traceback (most recent call last):\n",
      "  File \"/home/ubuntu/.local/lib/python3.8/site-packages/py4j/java_gateway.py\", line 977, in _get_connection\n",
      "    connection = self.deque.pop()\n",
      "IndexError: pop from an empty deque\n",
      "\n",
      "During handling of the above exception, another exception occurred:\n",
      "\n",
      "Traceback (most recent call last):\n",
      "  File \"/home/ubuntu/.local/lib/python3.8/site-packages/py4j/java_gateway.py\", line 1115, in start\n",
      "    self.socket.connect((self.address, self.port))\n",
      "ConnectionRefusedError: [Errno 111] Connection refused\n",
      "/home/ubuntu/.local/lib/python3.8/site-packages/pyspark/context.py:460: RuntimeWarning: Unable to cleanly shutdown Spark JVM process. It is possible that the process has crashed, been killed or may also be in a zombie state.\n",
      "  warnings.warn(\n"
     ]
    },
    {
     "name": "stdout",
     "output_type": "stream",
     "text": [
      "Ended Session\n"
     ]
    }
   ],
   "source": [
    "# release the cores for another application!\n",
    "spark_context.stop()\n",
    "print(\"Ended Session\")"
   ]
  },
  {
   "cell_type": "code",
   "execution_count": null,
   "metadata": {},
   "outputs": [],
   "source": [
    "\n"
   ]
  }
 ],
 "metadata": {
  "kernelspec": {
   "display_name": "Python 3",
   "language": "python",
   "name": "python3"
  },
  "language_info": {
   "codemirror_mode": {
    "name": "ipython",
    "version": 3
   },
   "file_extension": ".py",
   "mimetype": "text/x-python",
   "name": "python",
   "nbconvert_exporter": "python",
   "pygments_lexer": "ipython3",
   "version": "3.8.5"
  }
 },
 "nbformat": 4,
 "nbformat_minor": 4
}
