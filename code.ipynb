{
 "cells": [
  {
   "cell_type": "code",
   "execution_count": 5,
   "metadata": {},
   "outputs": [
    {
     "name": "stdout",
     "output_type": "stream",
     "text": [
      "Started Session\n"
     ]
    }
   ],
   "source": [
    "from pyspark.sql import SparkSession\n",
    "import timeit \n",
    "\n",
    "# New API\n",
    "spark_session = SparkSession\\\n",
    "        .builder\\\n",
    "        .master(\"spark://192.168.2.131:7077\") \\\n",
    "        .appName(\"Team7_code.ipynb\")\\\n",
    "        .config(\"spark.dynamicAllocation.enabled\", True)\\\n",
    "        .config(\"spark.shuffle.service.enabled\", True)\\\n",
    "        .config(\"spark.dynamicAllocation.executorIdleTimeout\",\"30s\")\\\n",
    "        .config(\"spark.cores.max\",2)\\\n",
    "        .config(\"spark.worker.instances\",5)\\\n",
    "        .config(\"spark.executor.cores\",1)\\\n",
    "        .config(\"spark.driver.port\",9998)\\\n",
    "        .config(\"spark.blockManager.port\",10005)\\\n",
    "        .getOrCreate()\n",
    "#\\#)\\\n",
    "# Old API (RDD)\n",
    "spark_context = spark_session.sparkContext\n",
    "\n",
    "spark_context.setLogLevel(\"INFO\")\n",
    "print(\"Started Session\")"
   ]
  },
  {
   "cell_type": "code",
   "execution_count": 6,
   "metadata": {},
   "outputs": [
    {
     "name": "stdout",
     "output_type": "stream",
     "text": [
      "root\n",
      " |-- archived: boolean (nullable = true)\n",
      " |-- author: string (nullable = true)\n",
      " |-- author_flair_css_class: string (nullable = true)\n",
      " |-- author_flair_text: string (nullable = true)\n",
      " |-- body: string (nullable = true)\n",
      " |-- controversiality: long (nullable = true)\n",
      " |-- created_utc: string (nullable = true)\n",
      " |-- distinguished: string (nullable = true)\n",
      " |-- downs: long (nullable = true)\n",
      " |-- edited: string (nullable = true)\n",
      " |-- gilded: long (nullable = true)\n",
      " |-- id: string (nullable = true)\n",
      " |-- link_id: string (nullable = true)\n",
      " |-- name: string (nullable = true)\n",
      " |-- parent_id: string (nullable = true)\n",
      " |-- retrieved_on: long (nullable = true)\n",
      " |-- score: long (nullable = true)\n",
      " |-- score_hidden: boolean (nullable = true)\n",
      " |-- subreddit: string (nullable = true)\n",
      " |-- subreddit_id: string (nullable = true)\n",
      " |-- ups: long (nullable = true)\n",
      "\n",
      "execution time 22.259210607997375s\n"
     ]
    }
   ],
   "source": [
    "def create_spark_dataframe(filename):\n",
    "    df = spark_session.read.json('hdfs://192.168.2.131:9000/user/ubuntu/{}'.format(filename))\n",
    "    return df\n",
    "\n",
    "start_time_0 = timeit.default_timer() \n",
    "\n",
    "#df = create_spark_dataframe('RC_2005-12.json')\n",
    "#df = create_spark_dataframe('RC_2011-08.json')\n",
    "df = create_spark_dataframe('RC_2009-05.json')\n",
    "df.printSchema()\n",
    "print(\"execution time {}s\".format(timeit.default_timer()-start_time_0))"
   ]
  },
  {
   "cell_type": "code",
   "execution_count": 67,
   "metadata": {},
   "outputs": [
    {
     "name": "stdout",
     "output_type": "stream",
     "text": [
      "+------------------+-------+\n",
      "|            author|  count|\n",
      "+------------------+-------+\n",
      "|         [deleted]|2442948|\n",
      "|         mileylols|   4594|\n",
      "|            Lots42|   4047|\n",
      "|       GenJonesMom|   3294|\n",
      "|     dispatcher_83|   3006|\n",
      "|           JBgreen|   2817|\n",
      "|            Spongi|   2731|\n",
      "|Release_the_KRAKEN|   2680|\n",
      "|          Osmodius|   2579|\n",
      "|      redhatnation|   2481|\n",
      "|      mavriksfan11|   2465|\n",
      "|   original-finder|   2421|\n",
      "|    GhostedAccount|   2406|\n",
      "|         Warlizard|   2296|\n",
      "|       StickDoctor|   2273|\n",
      "|           Moridyn|   2053|\n",
      "|          Ali-Sama|   2041|\n",
      "|         edubation|   2009|\n",
      "|          G_Morgan|   1974|\n",
      "|       silverhydra|   1952|\n",
      "+------------------+-------+\n",
      "only showing top 20 rows\n",
      "\n",
      "execution time 70.14901283899962s\n"
     ]
    }
   ],
   "source": [
    "from pyspark.sql.functions import desc, col\n",
    "\n",
    "#num_comments = df.count()\n",
    "#print('number of comments: {}'.format(num_comments))\n",
    "\n",
    "start_time_0 = timeit.default_timer() \n",
    "\n",
    "author_comment_counts = df.groupBy('author').count()\n",
    "author_comment_counts.cache()\n",
    "author_comment_counts.sort(desc(\"count\")).show()\n",
    "print(\"execution time {}s\".format(timeit.default_timer()-start_time_0))\n"
   ]
  },
  {
   "cell_type": "code",
   "execution_count": 7,
   "metadata": {},
   "outputs": [
    {
     "name": "stdout",
     "output_type": "stream",
     "text": [
      "execution time 8.168689876009012s\n"
     ]
    }
   ],
   "source": [
    "\n",
    "start_time_0 = timeit.default_timer() \n",
    "#author_comment_counts.select(\"count\").rdd.map(tuple).map(lambda x: x[0]).map(lambda x: x**2).collect()\n",
    "df.select(\"score\").rdd.map(tuple).map(lambda x: x[0]).map(lambda x: x**2).collect()\n",
    "\n",
    "print(\"execution time {}s\".format(timeit.default_timer()-start_time_0))"
   ]
  },
  {
   "cell_type": "code",
   "execution_count": 32,
   "metadata": {},
   "outputs": [
    {
     "name": "stdout",
     "output_type": "stream",
     "text": [
      "+-------------+----------+\n",
      "|       author|sum(score)|\n",
      "+-------------+----------+\n",
      "|   paulgraham|        98|\n",
      "|     mattknox|        77|\n",
      "|    [deleted]|        58|\n",
      "|      bugbear|        43|\n",
      "| michaelneale|        39|\n",
      "|     dstowell|        38|\n",
      "|         spez|        36|\n",
      "|      AaronSw|        30|\n",
      "|     JimThome|        29|\n",
      "|        sempf|        29|\n",
      "|    bolinfest|        28|\n",
      "|       davidw|        27|\n",
      "|          Zak|        26|\n",
      "|     symbiont|        25|\n",
      "|     binladen|        24|\n",
      "|     enjahova|        23|\n",
      "|         cg84|        23|\n",
      "|brendankohler|        21|\n",
      "|       dylanm|        20|\n",
      "|     beastboy|        19|\n",
      "+-------------+----------+\n",
      "only showing top 20 rows\n",
      "\n",
      "execution time 2.5746123989956686s\n"
     ]
    }
   ],
   "source": [
    "start_time_0 = timeit.default_timer() \n",
    "author_score = df.groupBy('author').sum('score')\n",
    "author_score.sort(desc(\"sum(score)\")).show()\n",
    "print(\"execution time {}s\".format(timeit.default_timer()-start_time_0))"
   ]
  },
  {
   "cell_type": "code",
   "execution_count": 40,
   "metadata": {},
   "outputs": [
    {
     "name": "stdout",
     "output_type": "stream",
     "text": [
      "root\n",
      " |-- author: string (nullable = true)\n",
      " |-- count: long (nullable = false)\n",
      " |-- author: string (nullable = true)\n",
      " |-- score: long (nullable = true)\n",
      "\n",
      "+--------------+-----+--------------+-----+-----------------+\n",
      "|        author|count|        author|score|    Average Score|\n",
      "+--------------+-----+--------------+-----+-----------------+\n",
      "|          Grue|    1|          Grue|   16|             16.0|\n",
      "|TenebraeVision|    1|TenebraeVision|   16|             16.0|\n",
      "|        fergie|    1|        fergie|   12|             12.0|\n",
      "|        bstard|    1|        bstard|   11|             11.0|\n",
      "|         sempf|    3|         sempf|   29|9.666666666666666|\n",
      "|     bolinfest|    4|     bolinfest|   28|              7.0|\n",
      "|    HiggsBoson|    1|    HiggsBoson|    7|              7.0|\n",
      "|      kanagawa|    1|      kanagawa|    7|              7.0|\n",
      "|    paulgraham|   15|    paulgraham|   98|6.533333333333333|\n",
      "|         arkas|    2|         arkas|   13|              6.5|\n",
      "|      dstowell|    6|      dstowell|   38|6.333333333333333|\n",
      "|        kelyse|    1|        kelyse|    6|              6.0|\n",
      "|       spolsky|    2|       spolsky|   12|              6.0|\n",
      "|       gernika|    1|       gernika|    6|              6.0|\n",
      "|     FutureAEI|    1|     FutureAEI|    6|              6.0|\n",
      "|          chao|    2|          chao|   12|              6.0|\n",
      "|       AaronSw|    5|       AaronSw|   30|              6.0|\n",
      "|      bwringer|    1|      bwringer|    6|              6.0|\n",
      "|        willfe|    2|        willfe|   12|              6.0|\n",
      "|          bosk|    2|          bosk|   11|              5.5|\n",
      "+--------------+-----+--------------+-----+-----------------+\n",
      "only showing top 20 rows\n",
      "\n",
      "execution time 14.233018451996031s\n"
     ]
    }
   ],
   "source": [
    "start_time_0 = timeit.default_timer() \n",
    "\n",
    "author_df = author_comment_counts.join(author_score, author_comment_counts.author == author_score.author).withColumnRenamed(\"sum(score)\", \"score\")\n",
    "author_df.withColumn('Average Score', author_df['score']/author_df['count']).sort(desc('Average Score')).show()\n",
    "print(\"execution time {}s\".format(timeit.default_timer()-start_time_0))"
   ]
  },
  {
   "cell_type": "code",
   "execution_count": null,
   "metadata": {},
   "outputs": [],
   "source": []
  },
  {
   "cell_type": "code",
   "execution_count": 4,
   "metadata": {},
   "outputs": [
    {
     "name": "stdout",
     "output_type": "stream",
     "text": [
      "Ended Session\n"
     ]
    }
   ],
   "source": [
    "# release the cores for another application!\n",
    "spark_context.stop()\n",
    "print(\"Ended Session\")"
   ]
  },
  {
   "cell_type": "code",
   "execution_count": null,
   "metadata": {},
   "outputs": [],
   "source": [
    "\n"
   ]
  }
 ],
 "metadata": {
  "kernelspec": {
   "display_name": "Python 3",
   "language": "python",
   "name": "python3"
  },
  "language_info": {
   "codemirror_mode": {
    "name": "ipython",
    "version": 3
   },
   "file_extension": ".py",
   "mimetype": "text/x-python",
   "name": "python",
   "nbconvert_exporter": "python",
   "pygments_lexer": "ipython3",
   "version": "3.8.5"
  }
 },
 "nbformat": 4,
 "nbformat_minor": 4
}
