{
 "cells": [
  {
   "cell_type": "code",
   "execution_count": 36,
   "id": "laughing-vienna",
   "metadata": {},
   "outputs": [
    {
     "name": "stdout",
     "output_type": "stream",
     "text": [
      "Started Session\n"
     ]
    }
   ],
   "source": [
    "from pyspark.sql import SparkSession\n",
    "import timeit \n",
    "\n",
    "\n",
    "ss_experiment_1 = {'cores': 1, 'dataset': \"RC_2009-11.json\"}\n",
    "ss_experiment_2 = {'cores': 2, 'dataset': \"RC_2009-11.json\"}\n",
    "ss_experiment_3 = {'cores': 4, 'dataset': \"RC_2009-11.json\"}\n",
    "ss_experiment_4 = {'cores': 6, 'dataset': \"RC_2009-11.json\"}\n",
    "ss_experiment_5 = {'cores': 8, 'dataset': \"RC_2009-11.json\"}\n",
    "\n",
    "ws_experiment_1 = {'cores': 1, 'dataset': \"RC_2008-08.json\"}\n",
    "ws_experiment_2 = {'cores': 2, 'dataset': \"RC_2009-05.json\"}\n",
    "ws_experiment_3 = {'cores': 4, 'dataset': \"RC_2009-11.json\"}\n",
    "ws_experiment_4 = {'cores': 6, 'dataset': \"RC_2010-06.json\"}\n",
    "ws_experiment_5 = {'cores': 8, 'dataset': \"RC_2010-09.json\"}\n",
    "\n",
    "\n",
    "config = ws_experiment_1\n",
    "# New API\n",
    "spark_session = SparkSession\\\n",
    "        .builder\\\n",
    "        .master(\"spark://192.168.2.131:7077\") \\\n",
    "        .appName(\"Team7_code.ipynb\")\\\n",
    "        .config(\"spark.dynamicAllocation.enabled\", True)\\\n",
    "        .config(\"spark.shuffle.service.enabled\", True)\\\n",
    "        .config(\"spark.dynamicAllocation.executorIdleTimeout\",\"30s\")\\\n",
    "        .config(\"spark.cores.max\",config['cores'])\\\n",
    "        .config(\"spark.worker.instances\",4)\\\n",
    "        .config(\"spark.executor.cores\",1)\\\n",
    "        .config(\"spark.driver.port\",9998)\\\n",
    "        .config(\"spark.blockManager.port\",10005)\\\n",
    "        .getOrCreate()\n",
    "\n",
    "#        .config(\"spark.executor.memory\", \"2g\")\\\n",
    "#\\#)\\\n",
    "# Old API (RDD)\n",
    "spark_context = spark_session.sparkContext\n",
    "\n",
    "spark_context.setLogLevel(\"INFO\")\n",
    "print(\"Started Session\")"
   ]
  },
  {
   "cell_type": "markdown",
   "id": "material-approach",
   "metadata": {},
   "source": [
    "############## DATA LOADING ############"
   ]
  },
  {
   "cell_type": "code",
   "execution_count": 37,
   "id": "constitutional-agency",
   "metadata": {},
   "outputs": [
    {
     "name": "stdout",
     "output_type": "stream",
     "text": [
      "execution time 28.64332375099184s\n"
     ]
    }
   ],
   "source": [
    "def create_spark_dataframe(filename):\n",
    "    df = spark_session.read.json('hdfs://192.168.2.131:9000/user/ubuntu/{}'.format(filename))\n",
    "    return df\n",
    "\n",
    "start_time_0 = timeit.default_timer() \n",
    "\n",
    "df = create_spark_dataframe(config['dataset'])\n",
    "                            \n",
    "print(\"execution time {}s\".format(timeit.default_timer()-start_time_0))"
   ]
  },
  {
   "cell_type": "markdown",
   "id": "posted-sword",
   "metadata": {},
   "source": [
    "Author comments count"
   ]
  },
  {
   "cell_type": "code",
   "execution_count": 38,
   "id": "radio-praise",
   "metadata": {},
   "outputs": [
    {
     "name": "stdout",
     "output_type": "stream",
     "text": [
      "+---------------+------+\n",
      "|         author| count|\n",
      "+---------------+------+\n",
      "|      [deleted]|198037|\n",
      "|           Ra__|  1357|\n",
      "|NoMoreNicksLeft|  1344|\n",
      "|   uteunawaytay|  1246|\n",
      "|         matts2|  1151|\n",
      "|       duskglow|  1131|\n",
      "|     malcontent|  1029|\n",
      "|        fingers|   967|\n",
      "|     mexicodoug|   924|\n",
      "|     dirtymoney|   873|\n",
      "|      glengyron|   824|\n",
      "|         h0dg3s|   822|\n",
      "|    Pikajabroni|   819|\n",
      "|      Poromenos|   817|\n",
      "|       mutatron|   802|\n",
      "|      moogle516|   738|\n",
      "|     braindrane|   681|\n",
      "|      otakucode|   649|\n",
      "|   nixonrichard|   644|\n",
      "|         Deacon|   610|\n",
      "+---------------+------+\n",
      "only showing top 20 rows\n",
      "\n",
      "execution time 11.628074069973081s\n"
     ]
    }
   ],
   "source": [
    "from pyspark.sql.functions import desc, col\n",
    "start_time_0 = timeit.default_timer() \n",
    "\n",
    "author_comment_counts = df.groupBy('author').count()\n",
    "author_comment_counts.cache()\n",
    "author_comment_counts.sort(desc(\"count\")).show()\n",
    "print(\"execution time {}s\".format(timeit.default_timer()-start_time_0))"
   ]
  },
  {
   "cell_type": "markdown",
   "id": "irish-consumption",
   "metadata": {},
   "source": [
    "Word count and score"
   ]
  },
  {
   "cell_type": "code",
   "execution_count": 39,
   "id": "constant-wales",
   "metadata": {},
   "outputs": [
    {
     "name": "stdout",
     "output_type": "stream",
     "text": [
      "[('the', 805563), ('to', 491652), ('a', 433181), ('of', 367834), ('and', 362032), ('i', 319635), ('that', 293473), ('is', 290676), ('you', 250066), ('in', 242733)]\n",
      "execution time 72.39900828100508s\n",
      "[('the', 3161368), ('to', 1909824), ('a', 1743123), ('and', 1462728), ('of', 1435201), ('i', 1280625), ('that', 1074843), ('is', 1055296), ('in', 962635), ('it', 917759)]\n",
      "execution time 30.920393443026114s\n",
      "[('checkitout', 201.0), ('saybro', 166.45454545454547), ('frequenting', 165.0), ('parlour', 158.16666666666666), ('roseburg', 142.85714285714286), ('schwarzschild', 114.25), ('streetview', 109.75), ('vj', 109.0), ('praetorius', 107.17647058823529), ('dialed', 99.3076923076923), ('theatrics', 99.3), ('courted', 98.2), ('fleegman', 94.0), ('lala', 89.0), ('timelocaltime', 86.66666666666667), ('bert', 85.28571428571429), ('nonslip', 81.66666666666667), ('farout', 81.42857142857143), ('piedmont', 80.16666666666667), ('plotdriven', 79.16666666666667), ('gtguy', 78.5), ('hitherto', 76.46153846153847), ('m16s', 76.0), ('arpa', 66.66666666666667), ('honorably', 66.46153846153847), ('elapg', 65.83333333333333), ('screeds', 65.55555555555556), ('presides', 64.0), ('topsecret', 63.333333333333336), ('eggbert', 61.63157894736842), ('cabbie', 61.5), ('homonym', 60.0), ('highres', 59.25), ('556mm', 58.84615384615385), ('dunnit', 58.0), ('spose', 57.72727272727273), ('formedhttpwwwsomethingawfulcomflashshmorkybabbyswf', 57.166666666666664), ('1289', 57.111111111111114), ('straighttalk', 57.0), ('toasts', 57.0), ('bel', 54.833333333333336), ('ssss', 54.05555555555556), ('forgeries', 53.5), ('campaigner', 52.5), ('spectrometer', 52.333333333333336), ('m16', 51.68181818181818), ('homers', 51.666666666666664), ('antimass', 51.5), ('hullabaloo', 51.18181818181818), ('sieges', 50.833333333333336), ('offshoots', 50.833333333333336), ('beirut', 50.5), ('porker', 50.166666666666664), ('paternal', 50.15), ('dhmo', 50.148148148148145), ('jongil', 50.0), ('irksome', 49.714285714285715), ('crewman', 49.666666666666664), ('hillside', 49.57142857142857), ('rufty', 49.166666666666664), ('eugene', 49.130434782608695), ('4600', 48.666666666666664), ('stammered', 48.57142857142857), ('britslayer', 48.27272727272727), ('voicemail', 47.44827586206897), ('alttext', 47.285714285714285), ('breathable', 46.75), ('colt', 46.6), ('gman', 46.0), ('xen', 45.666666666666664), ('whistled', 45.51428571428571), ('mote', 45.5), ('ctrlx', 45.142857142857146), ('ammonium', 45.0), ('trickery', 44.84615384615385), ('goth', 43.90625), ('mirri', 43.833333333333336), ('cfc', 43.714285714285715), ('valor', 43.285714285714285), ('ballooned', 43.125), ('sapphire', 42.142857142857146), ('portrait', 41.648148148148145), ('firmer', 41.57142857142857), ('nino', 41.333333333333336), ('biweekly', 41.166666666666664), ('belair', 41.15966386554622), ('richly', 40.9), ('netizens', 40.5), ('deliciousness', 40.27272727272727), ('aroused', 40.21621621621622), ('haphazardly', 40.0), ('ddg1000', 39.92857142857143), ('clifford', 39.875), ('masterminded', 39.77777777777778), ('comprising', 39.72727272727273), ('biodegradable', 39.333333333333336), ('painstakingly', 39.25), ('ernie', 39.09090909090909), ('cameramen', 39.0), ('mornin', 39.0)]\n",
      "execution time 7.697151556960307s\n",
      "Total execution time 111.01724460400874s\n"
     ]
    }
   ],
   "source": [
    "import re\n",
    "def pre_process_text(text):\n",
    "    text = text.lower()\n",
    "    text = text.replace('\\r', '')\n",
    "    text = text.replace('\\n', ' ')\n",
    "    text = text.strip()\n",
    "    text=text.split(' ')\n",
    "    text = map(lambda x: re.sub(r'[^a-zA-Z0-9]+', '', x), text)\n",
    "    text = filter(lambda x: len(x) > 0, text)\n",
    "    return text\n",
    "\n",
    "total_time = timeit.default_timer() \n",
    "\n",
    "############ WORD COUNTING ###################\n",
    "start_time_0 = timeit.default_timer() \n",
    "df_tmp = df.select(['body','score']).rdd.map(tuple).map(lambda x: (pre_process_text(x[0]), x[1])).flatMap(lambda x: [(y, x[1]) for y in x[0]]).cache()\n",
    "word_counts =df_tmp.map(lambda x: (x[0], 1)).reduceByKey(lambda x,y: x+y)\n",
    "print(word_counts.sortBy(lambda x: x[1], ascending=False).take(10))\n",
    "print(\"execution time {}s\".format(timeit.default_timer()-start_time_0))\n",
    "\n",
    "################ WORD SCORE ################\n",
    "start_time_0 = timeit.default_timer() \n",
    "word_scores = df_tmp.reduceByKey(lambda x,y: x+y)\n",
    "print(word_scores.sortBy(lambda x: x[1], ascending=False).take(10))\n",
    "print(\"execution time {}s\".format(timeit.default_timer()-start_time_0))\n",
    "\n",
    "################# WORD AVERAGE SCORE ###################\n",
    "start_time_0 = timeit.default_timer() \n",
    "word_avg_score = word_counts.filter(lambda x: x[1]>5).join(word_scores).map(lambda x: (x[0], x[1][1]/x[1][0]))\n",
    "print(word_avg_score.sortBy(lambda x: x[1], ascending=False).take(100))\n",
    "print(\"execution time {}s\".format(timeit.default_timer()-start_time_0))\n",
    "\n",
    "print(\"Total execution time {}s\".format(timeit.default_timer()-total_time))"
   ]
  },
  {
   "cell_type": "code",
   "execution_count": 33,
   "id": "uniform-valuable",
   "metadata": {},
   "outputs": [
    {
     "name": "stdout",
     "output_type": "stream",
     "text": [
      "Ended Session\n"
     ]
    }
   ],
   "source": [
    "# release the cores for another application!\n",
    "spark_context.stop()\n",
    "print(\"Ended Session\")"
   ]
  },
  {
   "cell_type": "code",
   "execution_count": null,
   "id": "trying-layer",
   "metadata": {},
   "outputs": [],
   "source": []
  },
  {
   "cell_type": "code",
   "execution_count": null,
   "id": "beginning-cisco",
   "metadata": {},
   "outputs": [],
   "source": []
  }
 ],
 "metadata": {
  "kernelspec": {
   "display_name": "Python 3",
   "language": "python",
   "name": "python3"
  },
  "language_info": {
   "codemirror_mode": {
    "name": "ipython",
    "version": 3
   },
   "file_extension": ".py",
   "mimetype": "text/x-python",
   "name": "python",
   "nbconvert_exporter": "python",
   "pygments_lexer": "ipython3",
   "version": "3.8.5"
  }
 },
 "nbformat": 4,
 "nbformat_minor": 5
}
